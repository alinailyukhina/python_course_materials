{
 "cells": [
  {
   "cell_type": "markdown",
   "id": "4aae3dfe",
   "metadata": {},
   "source": [
    "## Вывод (std out)"
   ]
  },
  {
   "cell_type": "code",
   "execution_count": 2,
   "id": "19d51336",
   "metadata": {},
   "outputs": [
    {
     "name": "stdout",
     "output_type": "stream",
     "text": [
      "1583\n",
      "1new8old\n"
     ]
    }
   ],
   "source": [
    "## Напишите программу, которая вводит строки без newline или space (не забудьте что print принимает сколько угодно аргументов)\n",
    "\n",
    "# Тестовые данные\n",
    "\n",
    "# 1, 5, 8, 3 -> 1583\n",
    "# 1, \"new\", 8, \"old\" -> 1new8old\n",
    "\n",
    "print(1, 5, 8, 3, sep='')\n",
    "print(1, 'new', 8, 'old', sep='')\n"
   ]
  },
  {
   "cell_type": "markdown",
   "id": "c6a2735e",
   "metadata": {},
   "source": [
    "## Арифметика "
   ]
  },
  {
   "cell_type": "code",
   "execution_count": 21,
   "id": "bc23a479",
   "metadata": {},
   "outputs": [
    {
     "name": "stdout",
     "output_type": "stream",
     "text": [
      "1.4142135623730951\n",
      "4.123105625617661\n",
      "8.94427190999916\n"
     ]
    }
   ],
   "source": [
    "## Расчитайте расстояние между двумя заданными точками (math.sqrt) заданными в двумерном пространстве\n",
    "\n",
    "# Тестовые данные\n",
    "\n",
    "# [0, 0], [1, 1] -> 1.4142135623730951\n",
    "# [0, 1], [1, 5] -> 4.123105625617661\n",
    "# [4, 1], [12, 5] -> 8.94427190999916\n",
    "\n",
    "import math\n",
    "from math import sqrt\n",
    "\n",
    "a = [0, 0]\n",
    "b = [1, 1]\n",
    "\n",
    "c = [0, 1]\n",
    "d = [1, 5]\n",
    "\n",
    "e = [4, 1]\n",
    "f = [12, 5]\n",
    "\n",
    "distance_ab = math.sqrt(((a[0] - b[0])**2) + (a[1] - b[1])**2)\n",
    "distance_cd = math.sqrt(((c[0] - d[0])**2) + (c[1] - d[1])**2)\n",
    "distance_ef = math.sqrt(((e[0] - f[0])**2) + (e[1] - f[1])**2)\n",
    "\n",
    "\n",
    "print(distance_ab, distance_cd, distance_ef, sep='\\n')"
   ]
  },
  {
   "cell_type": "markdown",
   "id": "6c5d4192",
   "metadata": {},
   "source": [
    "## Списки"
   ]
  },
  {
   "cell_type": "code",
   "execution_count": 4,
   "id": "ace65e2e",
   "metadata": {},
   "outputs": [
    {
     "name": "stdout",
     "output_type": "stream",
     "text": [
      "2\n"
     ]
    }
   ],
   "source": [
    "## Посчитайте сумму элементов в списке (только тех, что чей тип float)\n",
    "\n",
    "# Тестовые данные\n",
    "\n",
    "color_list = [0.1,\"зеленый\", 1.6, \"белый\", 0.3, \"черный\", 7, \"2.0\"]\n",
    "\n",
    "# ответ: 2\n",
    "\n",
    "x = 0\n",
    "new_list = []\n",
    "\n",
    "while x < len(color_list):\n",
    "    element_list = color_list[x]\n",
    "    \n",
    "    if type(element_list) == float:\n",
    "        new_list.append(element_list)\n",
    "    x += 1\n",
    "        \n",
    "print(int(sum(new_list)))"
   ]
  },
  {
   "cell_type": "code",
   "execution_count": 2,
   "id": "f5efd6f8",
   "metadata": {},
   "outputs": [
    {
     "name": "stdout",
     "output_type": "stream",
     "text": [
      "['красный', 'черный']\n"
     ]
    }
   ],
   "source": [
    "## Отобразите с помощью print только первый и последний элемент списка (цикл while)\n",
    "\n",
    "# Тестовые данные\n",
    "\n",
    "color_list = [\"красный\",\"зеленый\",\"белый\" ,\"черный\"]\n",
    "\n",
    "x = 0\n",
    "new_list = []\n",
    "\n",
    "while x < len(color_list):\n",
    "    element_list = color_list[x]\n",
    "    \n",
    "    if color_list.index(element_list) == 0 or color_list.index(element_list) == 3:\n",
    "        new_list.append(element_list)\n",
    "    \n",
    "    x += 1\n",
    "    \n",
    "print(new_list)"
   ]
  },
  {
   "cell_type": "code",
   "execution_count": 27,
   "id": "0120e466",
   "metadata": {},
   "outputs": [
    {
     "name": "stdout",
     "output_type": "stream",
     "text": [
      "Element 3 was found\n",
      "Clear\n",
      "Element color was found\n"
     ]
    }
   ],
   "source": [
    "## Проверьте есть ли в данный элемент в списке, если есть выведите с помощью print \"Element такой то was found\", если элемента не нашлось выведите \"Clear\" (цикл while) \n",
    "\n",
    "# Тестовые данные\n",
    "\n",
    "# 3 -> [1, 5, 8, 3] -> \"Element 3 was found\"\n",
    "# -1 -> [1, 5, 8, 3] -> \"Clear\"\n",
    "# \"color\" -> [1, \"color\", 1.3, 3] ->  \"Element color was found\"\n",
    "\n",
    "### 1 & 2 \n",
    "list1 = [1, 5, 8, 3]\n",
    "\n",
    "x1 = 3\n",
    "x1_2 = -1\n",
    "\n",
    "\n",
    "while x1 < len(list1) and x1_2 < len(list1):\n",
    "    \n",
    "    if x1 in list1:\n",
    "        print('Element', x1, 'was found')\n",
    "    if x1_2 in list1:\n",
    "        print('Element', x1_2, 'was found')\n",
    "             \n",
    "    else: \n",
    "        print('Clear')\n",
    "        \n",
    "    x1 += 1\n",
    "    x1_2 += 1\n",
    "    \n",
    "    \n",
    "    \n",
    "### 3\n",
    "list2 = [1, \"color\", 1.3, 3]\n",
    "x2 = 'color'\n",
    "i = 0\n",
    "\n",
    "while i < len(list2):\n",
    "    \n",
    "    if x2 in list2:\n",
    "        print('Element', x2, 'was found')\n",
    "    else:\n",
    "        print('Clear')\n",
    "        \n",
    "    break\n",
    "        \n",
    "    i += 1\n",
    "    \n",
    "    "
   ]
  },
  {
   "cell_type": "code",
   "execution_count": 5,
   "id": "824424aa",
   "metadata": {},
   "outputs": [
    {
     "name": "stdout",
     "output_type": "stream",
     "text": [
      "9 caMii  /\\y4LLIii proger v 2022 roDy "
     ]
    }
   ],
   "source": [
    "## Пройдите по списку и объедините все элементы из списка в одну строку через пробел (цикл while)\n",
    "\n",
    "# Тестовые данные\n",
    "\n",
    "# [\"9\", \"caMii\", \" /\\y4LLIii\", \"proger\", \"v\", \"2022\", \"roDy\"] -> 9 caMii  /\\y4LLIii proger v 2022 roDy\n",
    "\n",
    "old_list = [\"9\", \"caMii\", \" /\\y4LLIii\", \"proger\", \"v\", \"2022\", \"roDy\"]\n",
    "\n",
    "i = 0\n",
    "string = ' '\n",
    "\n",
    "while i < len(old_list):\n",
    "    string = str(old_list[i])\n",
    "    print(string, end=' ')\n",
    "    \n",
    "    i += 1\n",
    "    \n",
    "    \n",
    "    "
   ]
  },
  {
   "cell_type": "code",
   "execution_count": 8,
   "id": "1c52c4b8",
   "metadata": {},
   "outputs": [
    {
     "name": "stdout",
     "output_type": "stream",
     "text": [
      "White Red\n",
      "Black Green\n",
      "Red White\n"
     ]
    }
   ],
   "source": [
    "## Пройдите по двум списка сразу и выведите сразу по два элемента - один из одного списка, другой из другого \n",
    "## (подсказка - обращайтесь по индексу к элементам обоих списков)\n",
    "\n",
    "# Тестовые данные\n",
    "\n",
    "color_list_1 = [\"White\", \"Black\", \"Red\"]\n",
    "color_list_2 = [\"Red\", \"Green\", \"White\"]\n",
    "\n",
    "# White Red\n",
    "# Black Green\n",
    "# Red White\n",
    "\n",
    "i = 0\n",
    "\n",
    "while i < len(color_list_1) and i < len(color_list_2):\n",
    "\n",
    "    print(color_list_1[i], color_list_2[i])\n",
    "    \n",
    "    i += 1\n",
    "\n"
   ]
  },
  {
   "cell_type": "code",
   "execution_count": 15,
   "id": "9d59ec07",
   "metadata": {},
   "outputs": [
    {
     "name": "stdout",
     "output_type": "stream",
     "text": [
      "aaabbbbbbcccccccccdddddddddddd"
     ]
    }
   ],
   "source": [
    "## Пройдите по списку и выводите каждый следующий элемент столько раз какой у него ((индекс + 1) * 3) в списке (цикл while) \n",
    "\n",
    "# Тестовые данные\n",
    "\n",
    "a = [\"a\", \"b\", \"c\", \"d\"] \n",
    "\n",
    "# ответ -> \"aaabbbbbbcccccccccdddddddddddd\"\n",
    "\n",
    "b = 0\n",
    "\n",
    "while b < len(a):\n",
    "    print(a[b] * (b + 1) * 3, end= '')\n",
    "    \n",
    "    b += 1\n",
    "\n",
    "\n"
   ]
  },
  {
   "cell_type": "code",
   "execution_count": 1,
   "id": "bfd569fd",
   "metadata": {},
   "outputs": [
    {
     "name": "stdout",
     "output_type": "stream",
     "text": [
      "[1, 11111] [2.4, 1000.0] ['a', 'b', 'string', 'new', 'old']\n"
     ]
    }
   ],
   "source": [
    "## Зайдите в каждый масив внутри (если это списко) и рассортируйте мне элементы по соответствующим спискам (не забудьте про append)\n",
    "\n",
    "\n",
    "sample = [[\"a\", \"b\", 1, 2.4], \"string\", [\"new\", 11111, 1000.0, \"old\"]]\n",
    "\n",
    "\n",
    "integers = []\n",
    "floats = []\n",
    "strings = []\n",
    "\n",
    "i = 0\n",
    "l = 0\n",
    "\n",
    "while i < len(sample):\n",
    "    \n",
    "    if type(sample[i]) == list:\n",
    "        l = 0\n",
    "        while l < len(sample[i]):\n",
    "            if type(sample[i][l]) == int:\n",
    "                integers.append(sample[i][l])\n",
    "            elif type(sample[i][l]) == float:\n",
    "                floats.append(sample[i][l])\n",
    "            else:\n",
    "                strings.append(sample[i][l])\n",
    "            l = l + 1\n",
    "            \n",
    "    else:\n",
    "        if type(sample[i]) == int:\n",
    "            integers.append(sample[i])\n",
    "        elif type(sample[i]) == float:\n",
    "            floats.append(sample[i])\n",
    "        else:\n",
    "            strings.append(sample[i])\n",
    "    i += 1\n",
    "    \n",
    "print(integers, floats, strings)\n",
    "        "
   ]
  },
  {
   "cell_type": "markdown",
   "id": "4d785ec2",
   "metadata": {},
   "source": [
    "## Библиотеки "
   ]
  },
  {
   "cell_type": "code",
   "execution_count": 10,
   "id": "0937e5e0",
   "metadata": {},
   "outputs": [],
   "source": [
    "## Напишите программу, которая выводит настоящее время ( то есть в ремя в которую программа запущена, используйте либу - time) \n",
    "\n",
    "# Тестовые данные (например)\n",
    "\n",
    "# 'Sat Oct  1 00:34:36 2022'"
   ]
  }
 ],
 "metadata": {
  "kernelspec": {
   "display_name": "Python 3 (ipykernel)",
   "language": "python",
   "name": "python3"
  },
  "language_info": {
   "codemirror_mode": {
    "name": "ipython",
    "version": 3
   },
   "file_extension": ".py",
   "mimetype": "text/x-python",
   "name": "python",
   "nbconvert_exporter": "python",
   "pygments_lexer": "ipython3",
   "version": "3.8.0"
  }
 },
 "nbformat": 4,
 "nbformat_minor": 5
}
